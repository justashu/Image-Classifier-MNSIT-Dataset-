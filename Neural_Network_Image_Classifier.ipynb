{
 "cells": [
  {
   "cell_type": "code",
   "execution_count": 1,
   "id": "a5cc39f4",
   "metadata": {},
   "outputs": [],
   "source": [
    "import os\n",
    "import numpy as np\n",
    "import pandas as pd\n",
    "from matplotlib import pyplot\n",
    "from scipy import optimize\n",
    "from scipy.io import loadmat\n",
    "%matplotlib inline"
   ]
  },
  {
   "cell_type": "markdown",
   "id": "bde0faa2",
   "metadata": {},
   "source": [
    "# 1. Inspect and plot some portion of the training data"
   ]
  },
  {
   "cell_type": "code",
   "execution_count": 2,
   "id": "456603ee",
   "metadata": {},
   "outputs": [],
   "source": [
    "data= pd.read_csv(os.path.join('fashion-mnist_train.csv'))"
   ]
  },
  {
   "cell_type": "code",
   "execution_count": 3,
   "id": "bbd8e44d",
   "metadata": {},
   "outputs": [],
   "source": [
    "#Initialise a dictionary and map the 'label' from the dataframe \n",
    "#to the specific kind of wearable it is.\n",
    "label_dict = {0:'T-Shirt/Top',1:'Trouser',2:'Pullover',3:'Dress',\n",
    "              4:'Coat',5:'Sandals',6:'Shirt',7:'Sneaker',8:'Bag',9:'Ankle boots'}"
   ]
  },
  {
   "cell_type": "code",
   "execution_count": 4,
   "id": "acc5a9db",
   "metadata": {},
   "outputs": [],
   "source": [
    "#Segregate the data, normalise the feature vector, initialise a dictionary corresponding to the output array and map it. \n",
    "#Print a subset of the data like we did for the hand-written digit classification\n",
    "def data_clean_Display(data): # 'data' is a pandas datafram                   \n",
    "        \n",
    "        y = data.label.values\n",
    "        X = data.drop('label', axis=1)\n",
    "        \n",
    "        \n",
    "        \n",
    "        X = np.array(X)\n",
    "        X = (X - X.min(axis=1)[:,None])/((X.max(axis=1) - X.min(axis=1))[:,None])\n",
    "        #n = (n - n.min(axis=1)[:,None])/((n.max(axis=1) - n.min(axis=1))[:,None])\n",
    "        y = np.array(y)# numpy array\n",
    "    \n",
    "        \n",
    "        return X,y\n",
    "\n",
    "X_train,y_train = data_clean_Display(data)\n"
   ]
  },
  {
   "cell_type": "code",
   "execution_count": 5,
   "id": "9ad2df23",
   "metadata": {},
   "outputs": [
    {
     "name": "stdout",
     "output_type": "stream",
     "text": [
      "[[0.         0.         0.         ... 0.         0.         0.        ]\n",
      " [0.         0.         0.         ... 0.         0.         0.        ]\n",
      " [0.         0.         0.         ... 0.21960784 0.         0.        ]\n",
      " ...\n",
      " [0.         0.         0.         ... 0.         0.         0.        ]\n",
      " [0.         0.         0.         ... 0.         0.         0.        ]\n",
      " [0.         0.         0.         ... 0.         0.         0.        ]]\n"
     ]
    }
   ],
   "source": [
    "print(X_train[1:10,:])"
   ]
  },
  {
   "cell_type": "code",
   "execution_count": 6,
   "id": "a36c91af",
   "metadata": {},
   "outputs": [
    {
     "name": "stdout",
     "output_type": "stream",
     "text": [
      "Pullover       Ankle boots       Coat       "
     ]
    },
    {
     "data": {
      "image/png": "[encoded data removed]",
      "text/plain": [
       "<Figure size 360x360 with 3 Axes>"
      ]
     },
     "metadata": {
      "needs_background": "light"
     },
     "output_type": "display_data"
    }
   ],
   "source": [
    "#Write code here to display sample set of data\n",
    "def displayData(X, example_width=None, figsize=(5, 5)):\n",
    "    \"\"\"\n",
    "    Displays 2D data stored in X in a nice grid.\n",
    "    \"\"\"\n",
    "    # Compute rows, cols\n",
    "    if X.ndim == 2:\n",
    "        m, n = X.shape\n",
    "    elif X.ndim == 1:\n",
    "        n = X.size\n",
    "        m = 1\n",
    "        X = X[None]  # Promote to a 2 dimensional array\n",
    "    else:\n",
    "        raise IndexError('Input X should be 1 or 2 dimensional.')\n",
    "\n",
    "    example_width = example_width or int(np.round(np.sqrt(n)))\n",
    "    example_height = n / example_width\n",
    "\n",
    "    # Compute number of items to display\n",
    "    display_rows = int(np.floor(np.sqrt(m)))\n",
    "    display_cols = int(np.ceil(m / display_rows))\n",
    "\n",
    "    fig, ax_array = pyplot.subplots(display_rows, display_cols, figsize=figsize)\n",
    "    fig.subplots_adjust(wspace=0.025, hspace=0.025)\n",
    "\n",
    "    ax_array = [ax_array] if m == 1 else ax_array.ravel()\n",
    "\n",
    "    for i, ax in enumerate(ax_array):\n",
    "        # Display Image\n",
    "        h = ax.imshow(X[i].reshape(example_width, example_width, order='F'),\n",
    "                      cmap='Greys', extent=[0, 1, 0, 1])\n",
    "        ax.axis('off')\n",
    "\n",
    "m = y_train.size\n",
    "\n",
    "rand_indices = np.random.choice(m, 3, replace=False)\n",
    "\n",
    "for l in rand_indices:\n",
    "   print(label_dict[y_train[l]], end='       ')\n",
    "sel = X_train[rand_indices, :]        \n",
    "\n",
    "\n",
    "displayData(sel)        "
   ]
  },
  {
   "cell_type": "code",
   "execution_count": 7,
   "id": "5a5061ab",
   "metadata": {},
   "outputs": [],
   "source": [
    "#Implement the sigmoid function\n",
    "def sigmoid(z):\n",
    "     \n",
    "    g = 1/(1 + np.exp(-z))\n",
    "        \n",
    "    return g\n",
    "    \n",
    "\n"
   ]
  },
  {
   "cell_type": "code",
   "execution_count": 8,
   "id": "38d3b915",
   "metadata": {},
   "outputs": [],
   "source": [
    "# Prediction based on trained model\n",
    "# Use sigmoid function to calculate probability rounded off to either 0 or 1\n",
    "#Prediction function for single hidden layer.\n",
    "def predictSingleHiddenLayer(w1, w2, X): \n",
    "    \n",
    "    if X.ndim==1:\n",
    "        X=X[None]\n",
    "    \n",
    "    m=X.shape[0]\n",
    "    num_labels= w2.shape[0]\n",
    "    \n",
    "    p= np.zeros(m)\n",
    "    \n",
    "    a1= np.concatenate([np.ones((m,1)), X], axis=1) #Input layer\n",
    "    \n",
    "    a2= sigmoid(a1.dot(w1.T)) #Hidden Layer\n",
    "    \n",
    "    a2= np.concatenate([np.ones((a2.shape[0],1)), a2 ], axis=1) #Activation of 2nd layer\n",
    "    \n",
    "    a3= sigmoid(a2.dot(w2.T))\n",
    "    \n",
    "    p= np.argmax(a3, axis=1)     # 'p' should be a vector of size equal to that of vector 'y'\n",
    "        \n",
    "    return p"
   ]
  },
  {
   "cell_type": "code",
   "execution_count": 9,
   "id": "7c25f7fc",
   "metadata": {},
   "outputs": [],
   "source": [
    "#Prediction function for double hidden layer.\n",
    "def predictDoubleHiddenLayer(w1, w2, w3, X): \n",
    "    if X.ndim==1:\n",
    "        X=X[None]\n",
    "    \n",
    "    m=X.shape[0]\n",
    "    num_labels= w3.shape[0]\n",
    "    \n",
    "    p= np.zeros(m)\n",
    "    \n",
    "    a1= np.concatenate([np.ones((m,1)), X], axis=1) #Input layer\n",
    "    \n",
    "    a2= sigmoid(a1.dot(w1.T)) #Hidden Layer\n",
    "    \n",
    "    a2= np.concatenate([np.ones((a2.shape[0],1)), a2 ], axis=1) #Activation of 2nd layer\n",
    "    \n",
    "    a3= sigmoid(a2.dot(w2.T))\n",
    "    \n",
    "    a3= np.concatenate([np.ones((a3.shape[0],1)), a3 ], axis=1) #Activation of 3rd layer\n",
    "    \n",
    "    a4= sigmoid(a3.dot(w3.T))\n",
    "    \n",
    "    p= np.argmax(a4, axis=1)     # 'p' should be a vector of size equal to that of vector 'y'\n",
    "        \n",
    "\n",
    "        \n",
    "    return p"
   ]
  },
  {
   "cell_type": "code",
   "execution_count": 10,
   "id": "acd9fba8",
   "metadata": {},
   "outputs": [],
   "source": [
    "#implement the gradient of the sigmoid function\n",
    "def sigmoidGradient(z):\n",
    "    g = np.zeros(z.shape)\n",
    "    g = sigmoid(z)*(1-sigmoid(z))\n",
    "\n",
    "    return g"
   ]
  },
  {
   "cell_type": "code",
   "execution_count": 11,
   "id": "5b15b6a0",
   "metadata": {},
   "outputs": [],
   "source": [
    "# Setup the parameters you will use for this exercise\n",
    "input_layer_size  =  784\n",
    "hidden_layer_size_One = 40   \n",
    "hidden_layer_size_Two = 40  \n",
    "num_labels = 10          #number of output labels\n"
   ]
  },
  {
   "cell_type": "code",
   "execution_count": 12,
   "id": "7992a8df",
   "metadata": {},
   "outputs": [],
   "source": [
    "#randomly initialise weights.\n",
    "def randInitializeWeights(L_in, L_out, epsilon_init=0.12):\n",
    "    W= np.zeros((L_out, L_in+1))\n",
    "    W= np.random.rand(L_out, L_in+1)*2*epsilon_init-epsilon_init\n",
    "    \n",
    "    return W"
   ]
  },
  {
   "cell_type": "code",
   "execution_count": 13,
   "id": "0a1e28b7",
   "metadata": {},
   "outputs": [],
   "source": [
    "# for single hidden layer\n",
    "initial_w1_1 = randInitializeWeights(input_layer_size, hidden_layer_size_One)\n",
    "initial_w2_1 = randInitializeWeights(hidden_layer_size_One, num_labels)\n",
    "\n",
    "# for double hidden layer\n",
    "initial_w1_2 = randInitializeWeights(input_layer_size, hidden_layer_size_One)\n",
    "initial_w2_2 = randInitializeWeights(hidden_layer_size_One, hidden_layer_size_Two)\n",
    "initial_w3_2 = randInitializeWeights(hidden_layer_size_Two, num_labels)    #only when you're using the Second Hidden Layer\n",
    "\n",
    "#Unroll parameters into a single array\n",
    "initial_nn_params_1 = np.concatenate([initial_w1_1.ravel(), initial_w2_1.ravel()], axis=0)  # for single hidden layer\n",
    "initial_nn_params_2 = np.concatenate([initial_w1_2.ravel(), initial_w2_2.ravel(), initial_w3_2.ravel()], axis=0)  # for double hidden layer"
   ]
  },
  {
   "cell_type": "markdown",
   "id": "df40e071",
   "metadata": {},
   "source": [
    "# 2a.  for one hidden layer"
   ]
  },
  {
   "cell_type": "code",
   "execution_count": 14,
   "id": "1a160f55",
   "metadata": {},
   "outputs": [],
   "source": [
    "#for one hidden layer\n",
    "def nnCostFunction_1(nn_params,\n",
    "                   input_layer_size,\n",
    "                   hidden_layer_size_One,\n",
    "                   num_labels,\n",
    "                   X, y, lambda_=0.1):\n",
    "    \n",
    "    \n",
    "    # Reshape nn_params back into the parameters w1 and w2, the weight matrices\n",
    "    # for our 2 layer neural network\n",
    "    s1 = input_layer_size\n",
    "    s2 = hidden_layer_size_One\n",
    "    s3 = num_labels\n",
    "    \n",
    "    w1 = np.reshape(nn_params[:s2 * (s1 + 1)], (s2, (s1 + 1)))\n",
    "\n",
    "    w2 = np.reshape(nn_params[(s2 * (s1 + 1)):], (s3, (s2 + 1)))\n",
    "   \n",
    "    # Setup some useful variables\n",
    "    m = y.size\n",
    "         \n",
    "    # You need to return the following variables correctly \n",
    "    J = 0\n",
    "    w1_grad = np.zeros(w1.shape)\n",
    "    w2_grad = np.zeros(w2.shape)\n",
    "\n",
    "    # ================================================================================================\n",
    "    \n",
    "    a1 = np.concatenate([np.ones((m, 1)), X], axis=1)\n",
    "    \n",
    "    a2 = sigmoid(a1.dot(w1.T))\n",
    "    a2 = np.concatenate([np.ones((a2.shape[0], 1)), a2], axis=1)\n",
    "    \n",
    "    a3 = sigmoid(a2.dot(w2.T))\n",
    "    \n",
    "    y_matrix = y.reshape(-1)\n",
    "    y_matrix = np.eye(num_labels)[y_matrix]\n",
    "    \n",
    "    temp1 = w1\n",
    "    temp2 = w2\n",
    "    \n",
    "    # Add regularization term\n",
    "    \n",
    "    reg_term = (lambda_ / (2 * m)) * (np.sum(np.square(temp1[:, 1:])) + np.sum(np.square(temp2[:, 1:])))\n",
    "    \n",
    "    J = -(1 / m) * np.sum((np.log(a3) * y_matrix) + np.log(1 - a3) * (1 - y_matrix)) + reg_term\n",
    "  \n",
    "    # Backpropogation\n",
    "    delta_3= a3-y_matrix #Error of O/P layer\n",
    "    delta_2= delta_3.dot(w2)[:, 1:]*sigmoidGradient(a1.dot(w1.T)) #Error of hidden layer 1.\n",
    "    \n",
    "    Delta1= delta_2.T.dot(a1)\n",
    "    Delta2= delta_3.T.dot(a2)\n",
    "\n",
    "    \n",
    "    # Add regularization to gradient\n",
    "\n",
    "    \n",
    "    w1_grad= (1/m)*Delta1\n",
    "    w2_grad= (1/m)*Delta2\n",
    "    \n",
    "    w1_grad[:, 1:]=  w1_grad[:, 1:] + (lambda_/m)*w1[:, 1:]\n",
    "    w2_grad[:, 1:]=  w2_grad[:, 1:] + (lambda_/m)*w2[:, 1:]\n",
    "    \n",
    "    grad= np.concatenate([w1_grad.ravel(), w2_grad.ravel()]) \n",
    "    #=======================================================================================================\n",
    "   \n",
    "    \n",
    "    return J,grad"
   ]
  },
  {
   "cell_type": "markdown",
   "id": "c9edf0e7",
   "metadata": {},
   "source": [
    "# 2b. for two hidden layers"
   ]
  },
  {
   "cell_type": "code",
   "execution_count": 15,
   "id": "7009004b",
   "metadata": {},
   "outputs": [],
   "source": [
    "\n",
    "\n",
    "def nnCostFunction_2(nn_params,\n",
    "                   input_layer_size,\n",
    "                   hidden_layer_size_One,\n",
    "                   hidden_layer_size_Two,\n",
    "                   num_labels,\n",
    "                   X, y, lambda_=0.1):\n",
    "    \n",
    "    \n",
    "    # Reshape nn_params back into the parameters w1 ,w2 and w3, the weight matrices\n",
    "    s1 = input_layer_size\n",
    "    s2 = hidden_layer_size_One\n",
    "    s3 = hidden_layer_size_Two\n",
    "    s4 = num_labels\n",
    "    \n",
    "    w1 = np.reshape(nn_params[:s2 * (s1 + 1)], (s2, (s1 + 1)))\n",
    "\n",
    "    w2 = np.reshape(nn_params[(s2 * (s1 + 1)):s2 * (s1 + 1)+(s3 * (s2 + 1))], (s3, (s2 + 1)))\n",
    "    w3 = np.reshape(nn_params[(s2 * (s1 + 1)+(s3 * (s2 + 1))):], (s4, (s3 + 1)))\n",
    "    # Setup some useful variables\n",
    "    m = y.size\n",
    "         \n",
    "    # You need to return the following variables correctly \n",
    "    J = 0\n",
    "    w1_grad = np.zeros(w1.shape)\n",
    "    w2_grad = np.zeros(w2.shape)\n",
    "    w3_grad = np.zeros(w3.shape)\n",
    "\n",
    "    # ================================================================================================\n",
    "    \n",
    "    a1 = np.concatenate([np.ones((m, 1)), X], axis=1)\n",
    "    \n",
    "    a2 = sigmoid(a1.dot(w1.T))\n",
    "    a2 = np.concatenate([np.ones((a2.shape[0], 1)), a2], axis=1)\n",
    "    \n",
    "    a3 = sigmoid(a2.dot(w2.T))\n",
    "    a3 = np.concatenate([np.ones((a3.shape[0], 1)), a3], axis=1)\n",
    "    \n",
    "    a4 = sigmoid(a3.dot(w3.T))\n",
    "    \n",
    "    y_matrix = y.reshape(-1)\n",
    "    y_matrix = np.eye(num_labels)[y_matrix]\n",
    "    \n",
    "    temp1 = w1\n",
    "    temp2 = w2\n",
    "    temp3 = w3\n",
    "    # Add regularization term\n",
    "    \n",
    "    reg_term = (lambda_ / (2 * m)) * (np.sum(np.square(temp1[:, 1:])) + np.sum(np.square(temp2[:, 1:])) + np.sum(np.square(temp3[:, 1:])))\n",
    "    \n",
    "    J = (-1 / m) * np.sum((np.log(a4) * y_matrix) + np.log(1 - a4) * (1 - y_matrix)) + reg_term\n",
    "  \n",
    "    # Backpropogation\n",
    "    delta_4= a4-y_matrix #Error of O/P layer\n",
    "    delta_3= delta_4.dot(w3)[:, 1:]*sigmoidGradient(a2.dot(w2.T))  #Error of hidden layer 2.\n",
    "    delta_2= delta_3.dot(w2)[:, 1:]*sigmoidGradient(a1.dot(w1.T))  #Error of hidden layer 1.\n",
    "    Delta1= delta_2.T.dot(a1)\n",
    "    Delta2= delta_3.T.dot(a2)\n",
    "    Delta3= delta_4.T.dot(a3)\n",
    "    \n",
    "    # Add regularization to gradient\n",
    "\n",
    "    \n",
    "    w1_grad= (1/m)*Delta1\n",
    "    w2_grad= (1/m)*Delta2\n",
    "    w3_grad= (1/m)*Delta3\n",
    "    \n",
    "    w1_grad[:, 1:]=  w1_grad[:, 1:] + (lambda_/m)*w1[:, 1:]\n",
    "    w2_grad[:, 1:]=  w2_grad[:, 1:] + (lambda_/m)*w2[:, 1:]\n",
    "    w3_grad[:, 1:]=  w3_grad[:, 1:] + (lambda_/m)*w3[:, 1:]\n",
    "    \n",
    "    grad= np.concatenate([w1_grad.ravel(), w2_grad.ravel(), w3_grad.ravel()]) \n",
    "    #=======================================================================================================\n",
    "   \n",
    "    \n",
    "   \n",
    "    return J,grad"
   ]
  },
  {
   "cell_type": "code",
   "execution_count": null,
   "id": "797fd2da",
   "metadata": {},
   "outputs": [],
   "source": []
  },
  {
   "cell_type": "code",
   "execution_count": 16,
   "id": "6fc10eab",
   "metadata": {},
   "outputs": [],
   "source": [
    "# for single hidden layer\n",
    "\n",
    "# Write code to pass the cost function to scipy's optimise.minimize\n",
    "\n",
    "options= {'maxiter': 4000}\n",
    "\n",
    "\n",
    "lambda_ = 0.1\n",
    "\n",
    "\n",
    "costFunction_1 = lambda p: nnCostFunction_1(p, input_layer_size, # p == nn_param\n",
    "                                        hidden_layer_size_One,\n",
    "                                        num_labels, X_train, y_train, lambda_)\n",
    "\n",
    "res_1 = optimize.minimize(costFunction_1,\n",
    "                        initial_nn_params_1,\n",
    "                        jac=True,\n",
    "                        method='TNC',\n",
    "                        options=options)"
   ]
  },
  {
   "cell_type": "code",
   "execution_count": 17,
   "id": "04226e98",
   "metadata": {},
   "outputs": [
    {
     "data": {
      "text/plain": [
       "     fun: 0.051366870584946794\n",
       "     jac: array([-3.73045991e-06, -5.98592710e-10,  1.93581103e-09, ...,\n",
       "       -4.39902546e-06, -7.92631566e-06, -9.53575926e-06])\n",
       " message: 'Max. number of function evaluations reached'\n",
       "    nfev: 4000\n",
       "     nit: 208\n",
       "  status: 3\n",
       " success: False\n",
       "       x: array([ 1.73729593e+00, -1.09557659e-03, -8.94366636e-03, ...,\n",
       "       -4.45191687e+00,  4.33263776e+00,  1.65157078e+00])"
      ]
     },
     "execution_count": 17,
     "metadata": {},
     "output_type": "execute_result"
    }
   ],
   "source": [
    "res_1"
   ]
  },
  {
   "cell_type": "code",
   "execution_count": 18,
   "id": "24fba0be",
   "metadata": {},
   "outputs": [],
   "source": [
    "# for double hidden layers\n",
    "\n",
    "options= {'maxiter': 4000}\n",
    "\n",
    "\n",
    "lambda_ = 0.1\n",
    "\n",
    "\n",
    "costFunction_2 = lambda p: nnCostFunction_2(p, input_layer_size, # p == nn_param\n",
    "                                        hidden_layer_size_One,\n",
    "                                        hidden_layer_size_Two,\n",
    "                                        num_labels, X_train, y_train, lambda_)\n",
    "\n",
    "res_2 = optimize.minimize(costFunction_2,\n",
    "                        initial_nn_params_2,\n",
    "                        jac=True,\n",
    "                        method='TNC',\n",
    "                        options=options)"
   ]
  },
  {
   "cell_type": "code",
   "execution_count": 19,
   "id": "ee5db361",
   "metadata": {},
   "outputs": [
    {
     "data": {
      "text/plain": [
       "     fun: 0.024353527706477602\n",
       "     jac: array([ 4.23221875e-06, -5.50175969e-10,  9.02109110e-09, ...,\n",
       "        3.23519393e-06,  2.92366719e-06,  2.18376675e-06])\n",
       " message: 'Max. number of function evaluations reached'\n",
       "    nfev: 4000\n",
       "     nit: 256\n",
       "  status: 3\n",
       " success: False\n",
       "       x: array([-1.75573259e-01, -5.02476111e-05, -3.10517470e-03, ...,\n",
       "        6.97594206e-01,  6.66087848e-01,  9.05283597e-01])"
      ]
     },
     "execution_count": 19,
     "metadata": {},
     "output_type": "execute_result"
    }
   ],
   "source": [
    "res_2"
   ]
  },
  {
   "cell_type": "code",
   "execution_count": 20,
   "id": "f8159d0c",
   "metadata": {},
   "outputs": [],
   "source": [
    "#Read in the test data at this point\n",
    "\n",
    "data_test= pd.read_csv('fashion-mnist_test.csv')\n",
    "X_test,y_test = data_clean_Display(data_test)\n"
   ]
  },
  {
   "cell_type": "code",
   "execution_count": 21,
   "id": "1d8e10fe",
   "metadata": {},
   "outputs": [],
   "source": [
    "#Break the nn_params into weights depending on how many layers you're using and \n",
    "#pass it to the predict function according to the number of layers you're using.\n",
    "\n",
    "## for single hidden layer\n",
    "\n",
    "nn_params_1 = res_1.x \n",
    "        \n",
    "# Obtained w1 and w2 back from nn_params\n",
    "w1_1 = np.reshape(nn_params_1[:hidden_layer_size_One * (input_layer_size + 1)],\n",
    "                        (hidden_layer_size_One, (input_layer_size + 1)))\n",
    "\n",
    "w2_1 = np.reshape(nn_params_1[(hidden_layer_size_One * (input_layer_size + 1)):],\n",
    "                        (num_labels, (hidden_layer_size_One + 1)))\n",
    "\n",
    "#check how the learned weights are performing on the test data.\n",
    "p_1 = predictSingleHiddenLayer(w1_1, w2_1, X_test)\n",
    "\n",
    "accuracy_1 = (np.mean(p_1 == y_test) * 100)"
   ]
  },
  {
   "cell_type": "code",
   "execution_count": 22,
   "id": "c1afb057",
   "metadata": {},
   "outputs": [],
   "source": [
    "## for double hidden layers\n",
    "\n",
    "\n",
    "nn_params_2 = res_2.x \n",
    "        \n",
    "# Obtained w1, w2 and w3 back from nn_params\n",
    "w1_2 = np.reshape(nn_params_2[:hidden_layer_size_One * (input_layer_size + 1)],\n",
    "                        (hidden_layer_size_One, (input_layer_size + 1)))\n",
    "\n",
    "w2_2 = np.reshape(nn_params_2[(hidden_layer_size_One * (input_layer_size + 1)):hidden_layer_size_One * (input_layer_size + 1)+(hidden_layer_size_Two * (hidden_layer_size_One + 1))],\n",
    "                        (hidden_layer_size_Two, (hidden_layer_size_One + 1)))\n",
    "w3_2 = np.reshape(nn_params_2[(hidden_layer_size_One * (input_layer_size + 1)+(hidden_layer_size_Two * (hidden_layer_size_One + 1))):],\n",
    "                        (num_labels, (hidden_layer_size_Two + 1)))\n",
    "\n",
    "\n",
    "#check how the learned weights are performing on the test data.\n",
    "\n",
    "p_2 = predictDoubleHiddenLayer(w1_2, w2_2, w3_2, X_test)\n",
    "accuracy_2 = (np.mean(p_2 == y_test) * 100)"
   ]
  },
  {
   "cell_type": "markdown",
   "id": "696be5e4",
   "metadata": {},
   "source": [
    "# 3. COMPARE the prediction efficiency of the NN from one hidden layer to double hidden layer >>>>>>for trainig and testing data respectively\n"
   ]
  },
  {
   "cell_type": "code",
   "execution_count": 23,
   "id": "ecab9b6d",
   "metadata": {},
   "outputs": [
    {
     "name": "stdout",
     "output_type": "stream",
     "text": [
      "Train Data Accuracy for single hidden layer :  100.0\n",
      "Train Data Accuracy for double hidden layer :  100.0\n"
     ]
    }
   ],
   "source": [
    "p_train_1 = predictSingleHiddenLayer(w1_1, w2_1, X_train)\n",
    "p_train_2 = predictDoubleHiddenLayer(w1_2, w2_2,w3_2, X_train)\n",
    "print('Train Data Accuracy for single hidden layer : ',np.round(np.mean(p_train_1 == y_train) * 100,3))\n",
    "print('Train Data Accuracy for double hidden layer : ',np.round(np.mean(p_train_2 == y_train) * 100,3))"
   ]
  },
  {
   "cell_type": "code",
   "execution_count": 24,
   "id": "e62c1f89",
   "metadata": {},
   "outputs": [
    {
     "name": "stdout",
     "output_type": "stream",
     "text": [
      "Test Data Accuracy for single hidden layer :  90.0\n",
      "Test Data Accuracy for double hidden layer :  86.667\n"
     ]
    }
   ],
   "source": [
    "p_1 = predictSingleHiddenLayer(w1_1, w2_1, X_test)\n",
    "accuracy_1 = (np.mean(p_1 == y_test) * 100)\n",
    "\n",
    "p_2 = predictDoubleHiddenLayer(w1_2, w2_2, w3_2, X_test)\n",
    "accuracy_2 = (np.mean(p_2 == y_test) * 100)\n",
    "\n",
    "print('Test Data Accuracy for single hidden layer : ',np.round(accuracy_1,3))\n",
    "print('Test Data Accuracy for double hidden layer : ',np.round(accuracy_2,3))"
   ]
  },
  {
   "cell_type": "markdown",
   "id": "7ca91c1f",
   "metadata": {},
   "source": [
    "# 4. Use the test data to plot few images along with the model predicted labels/classes"
   ]
  },
  {
   "cell_type": "code",
   "execution_count": 26,
   "id": "047b7b94",
   "metadata": {},
   "outputs": [
    {
     "name": "stdout",
     "output_type": "stream",
     "text": [
      "Dress         Shirt         Ankle boots         "
     ]
    },
    {
     "data": {
      "image/png": "[encoded data removed]",
      "text/plain": [
       "<Figure size 360x360 with 3 Axes>"
      ]
     },
     "metadata": {
      "needs_background": "light"
     },
     "output_type": "display_data"
    }
   ],
   "source": [
    "m = y_test.size\n",
    "# Randomly selected 49 data points to display\n",
    "rand_indices = np.random.choice(m, 3, replace=False)\n",
    "\n",
    "for i in rand_indices:\n",
    "   print(label_dict[y_test[i]], end='         ')\n",
    "sel = X_test[rand_indices, :]\n",
    "displayData(sel)  "
   ]
  },
  {
   "cell_type": "markdown",
   "id": "afb6a53a",
   "metadata": {},
   "source": [
    "# 5. Compare how the two NNs fare in terms of prediction accuracy for the same number of optimisation iterations"
   ]
  },
  {
   "cell_type": "markdown",
   "id": "70dfaf61",
   "metadata": {},
   "source": [
    "Theoretically speaking there will be more accuracy with incrament in \n",
    "the number of layers and the number of nodes in a particular layer. \n",
    "So, since two hidden layers will have more number of layers so it should \n",
    "be more accurate but will become more complex for computions."
   ]
  },
  {
   "cell_type": "code",
   "execution_count": null,
   "id": "2b256096",
   "metadata": {},
   "outputs": [],
   "source": []
  }
 ],
 "metadata": {
  "kernelspec": {
   "display_name": "Python 3 (ipykernel)",
   "language": "python",
   "name": "python3"
  },
  "language_info": {
   "codemirror_mode": {
    "name": "ipython",
    "version": 3
   },
   "file_extension": ".py",
   "mimetype": "text/x-python",
   "name": "python",
   "nbconvert_exporter": "python",
   "pygments_lexer": "ipython3",
   "version": "3.9.7"
  }
 },
 "nbformat": 4,
 "nbformat_minor": 5
}
